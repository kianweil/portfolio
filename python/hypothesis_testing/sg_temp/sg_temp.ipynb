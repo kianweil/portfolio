{
 "cells": [
  {
   "cell_type": "markdown",
   "metadata": {},
   "source": [
    "<font color = 'orange'>\n",
    "\n",
    "# Hypothesis Test\n",
    "\n",
    "</font>\n",
    "\n",
    "* to determine if there is an increase in SG's mean temperatures at a 5% significance level in the past 10 years (2023 vs 2013)\n",
    "* the data is only based on daily mean temperature readings from Changi weather station\n",
    "* temperature readings are in Celcius"
   ]
  },
  {
   "cell_type": "code",
   "execution_count": 1,
   "metadata": {},
   "outputs": [],
   "source": [
    "# import  libraries\n",
    "import pandas as pd\n",
    "import numpy as np\n",
    "import seaborn as sns\n",
    "import matplotlib.pyplot as plt\n",
    "from scipy import stats"
   ]
  },
  {
   "cell_type": "code",
   "execution_count": 2,
   "metadata": {},
   "outputs": [
    {
     "data": {
      "text/html": [
       "<div>\n",
       "<style scoped>\n",
       "    .dataframe tbody tr th:only-of-type {\n",
       "        vertical-align: middle;\n",
       "    }\n",
       "\n",
       "    .dataframe tbody tr th {\n",
       "        vertical-align: top;\n",
       "    }\n",
       "\n",
       "    .dataframe thead th {\n",
       "        text-align: right;\n",
       "    }\n",
       "</style>\n",
       "<table border=\"1\" class=\"dataframe\">\n",
       "  <thead>\n",
       "    <tr style=\"text-align: right;\">\n",
       "      <th></th>\n",
       "      <th>station</th>\n",
       "      <th>year</th>\n",
       "      <th>month</th>\n",
       "      <th>day</th>\n",
       "      <th>mean_temperature</th>\n",
       "    </tr>\n",
       "  </thead>\n",
       "  <tbody>\n",
       "    <tr>\n",
       "      <th>0</th>\n",
       "      <td>Changi</td>\n",
       "      <td>2013</td>\n",
       "      <td>1</td>\n",
       "      <td>1</td>\n",
       "      <td>26.9</td>\n",
       "    </tr>\n",
       "    <tr>\n",
       "      <th>1</th>\n",
       "      <td>Changi</td>\n",
       "      <td>2013</td>\n",
       "      <td>1</td>\n",
       "      <td>2</td>\n",
       "      <td>27.0</td>\n",
       "    </tr>\n",
       "    <tr>\n",
       "      <th>2</th>\n",
       "      <td>Changi</td>\n",
       "      <td>2013</td>\n",
       "      <td>1</td>\n",
       "      <td>3</td>\n",
       "      <td>26.9</td>\n",
       "    </tr>\n",
       "    <tr>\n",
       "      <th>3</th>\n",
       "      <td>Changi</td>\n",
       "      <td>2013</td>\n",
       "      <td>1</td>\n",
       "      <td>4</td>\n",
       "      <td>27.2</td>\n",
       "    </tr>\n",
       "    <tr>\n",
       "      <th>4</th>\n",
       "      <td>Changi</td>\n",
       "      <td>2013</td>\n",
       "      <td>1</td>\n",
       "      <td>5</td>\n",
       "      <td>27.5</td>\n",
       "    </tr>\n",
       "  </tbody>\n",
       "</table>\n",
       "</div>"
      ],
      "text/plain": [
       "  station  year  month  day  mean_temperature\n",
       "0  Changi  2013      1    1              26.9\n",
       "1  Changi  2013      1    2              27.0\n",
       "2  Changi  2013      1    3              26.9\n",
       "3  Changi  2013      1    4              27.2\n",
       "4  Changi  2013      1    5              27.5"
      ]
     },
     "execution_count": 2,
     "metadata": {},
     "output_type": "execute_result"
    }
   ],
   "source": [
    "# load dataset into df\n",
    "sg_temp = pd.read_csv('dataset/sg_temp.csv')\n",
    "sg_temp.head()"
   ]
  },
  {
   "cell_type": "code",
   "execution_count": 3,
   "metadata": {},
   "outputs": [
    {
     "data": {
      "text/html": [
       "<div>\n",
       "<style scoped>\n",
       "    .dataframe tbody tr th:only-of-type {\n",
       "        vertical-align: middle;\n",
       "    }\n",
       "\n",
       "    .dataframe tbody tr th {\n",
       "        vertical-align: top;\n",
       "    }\n",
       "\n",
       "    .dataframe thead th {\n",
       "        text-align: right;\n",
       "    }\n",
       "</style>\n",
       "<table border=\"1\" class=\"dataframe\">\n",
       "  <thead>\n",
       "    <tr style=\"text-align: right;\">\n",
       "      <th></th>\n",
       "      <th>station</th>\n",
       "      <th>year</th>\n",
       "      <th>month</th>\n",
       "      <th>day</th>\n",
       "      <th>mean_temperature</th>\n",
       "    </tr>\n",
       "  </thead>\n",
       "  <tbody>\n",
       "    <tr>\n",
       "      <th>count</th>\n",
       "      <td>730</td>\n",
       "      <td>730.000000</td>\n",
       "      <td>730.000000</td>\n",
       "      <td>730.000000</td>\n",
       "      <td>730.000000</td>\n",
       "    </tr>\n",
       "    <tr>\n",
       "      <th>unique</th>\n",
       "      <td>1</td>\n",
       "      <td>NaN</td>\n",
       "      <td>NaN</td>\n",
       "      <td>NaN</td>\n",
       "      <td>NaN</td>\n",
       "    </tr>\n",
       "    <tr>\n",
       "      <th>top</th>\n",
       "      <td>Changi</td>\n",
       "      <td>NaN</td>\n",
       "      <td>NaN</td>\n",
       "      <td>NaN</td>\n",
       "      <td>NaN</td>\n",
       "    </tr>\n",
       "    <tr>\n",
       "      <th>freq</th>\n",
       "      <td>730</td>\n",
       "      <td>NaN</td>\n",
       "      <td>NaN</td>\n",
       "      <td>NaN</td>\n",
       "      <td>NaN</td>\n",
       "    </tr>\n",
       "    <tr>\n",
       "      <th>mean</th>\n",
       "      <td>NaN</td>\n",
       "      <td>2018.000000</td>\n",
       "      <td>6.526027</td>\n",
       "      <td>15.720548</td>\n",
       "      <td>27.909726</td>\n",
       "    </tr>\n",
       "    <tr>\n",
       "      <th>std</th>\n",
       "      <td>NaN</td>\n",
       "      <td>5.003428</td>\n",
       "      <td>3.450215</td>\n",
       "      <td>8.802278</td>\n",
       "      <td>1.245635</td>\n",
       "    </tr>\n",
       "    <tr>\n",
       "      <th>min</th>\n",
       "      <td>NaN</td>\n",
       "      <td>2013.000000</td>\n",
       "      <td>1.000000</td>\n",
       "      <td>1.000000</td>\n",
       "      <td>23.700000</td>\n",
       "    </tr>\n",
       "    <tr>\n",
       "      <th>25%</th>\n",
       "      <td>NaN</td>\n",
       "      <td>2013.000000</td>\n",
       "      <td>4.000000</td>\n",
       "      <td>8.000000</td>\n",
       "      <td>27.200000</td>\n",
       "    </tr>\n",
       "    <tr>\n",
       "      <th>50%</th>\n",
       "      <td>NaN</td>\n",
       "      <td>2018.000000</td>\n",
       "      <td>7.000000</td>\n",
       "      <td>16.000000</td>\n",
       "      <td>27.900000</td>\n",
       "    </tr>\n",
       "    <tr>\n",
       "      <th>75%</th>\n",
       "      <td>NaN</td>\n",
       "      <td>2023.000000</td>\n",
       "      <td>10.000000</td>\n",
       "      <td>23.000000</td>\n",
       "      <td>28.800000</td>\n",
       "    </tr>\n",
       "    <tr>\n",
       "      <th>max</th>\n",
       "      <td>NaN</td>\n",
       "      <td>2023.000000</td>\n",
       "      <td>12.000000</td>\n",
       "      <td>31.000000</td>\n",
       "      <td>30.700000</td>\n",
       "    </tr>\n",
       "  </tbody>\n",
       "</table>\n",
       "</div>"
      ],
      "text/plain": [
       "       station         year       month         day  mean_temperature\n",
       "count      730   730.000000  730.000000  730.000000        730.000000\n",
       "unique       1          NaN         NaN         NaN               NaN\n",
       "top     Changi          NaN         NaN         NaN               NaN\n",
       "freq       730          NaN         NaN         NaN               NaN\n",
       "mean       NaN  2018.000000    6.526027   15.720548         27.909726\n",
       "std        NaN     5.003428    3.450215    8.802278          1.245635\n",
       "min        NaN  2013.000000    1.000000    1.000000         23.700000\n",
       "25%        NaN  2013.000000    4.000000    8.000000         27.200000\n",
       "50%        NaN  2018.000000    7.000000   16.000000         27.900000\n",
       "75%        NaN  2023.000000   10.000000   23.000000         28.800000\n",
       "max        NaN  2023.000000   12.000000   31.000000         30.700000"
      ]
     },
     "execution_count": 3,
     "metadata": {},
     "output_type": "execute_result"
    }
   ],
   "source": [
    "# retrievve descriptive stats\n",
    "sg_temp.describe(include='all')"
   ]
  },
  {
   "cell_type": "code",
   "execution_count": 4,
   "metadata": {},
   "outputs": [
    {
     "data": {
      "text/plain": [
       "station              object\n",
       "year                  int64\n",
       "month                 int64\n",
       "day                   int64\n",
       "mean_temperature    float64\n",
       "dtype: object"
      ]
     },
     "execution_count": 4,
     "metadata": {},
     "output_type": "execute_result"
    }
   ],
   "source": [
    "# check data types\n",
    "sg_temp.dtypes"
   ]
  },
  {
   "cell_type": "code",
   "execution_count": 5,
   "metadata": {},
   "outputs": [
    {
     "data": {
      "text/plain": [
       "station             0\n",
       "year                0\n",
       "month               0\n",
       "day                 0\n",
       "mean_temperature    0\n",
       "dtype: int64"
      ]
     },
     "execution_count": 5,
     "metadata": {},
     "output_type": "execute_result"
    }
   ],
   "source": [
    "# check for null values\n",
    "sg_temp.isnull().sum()"
   ]
  },
  {
   "cell_type": "code",
   "execution_count": 6,
   "metadata": {},
   "outputs": [],
   "source": [
    "# split dataset into 2023 and 2013 mean temperature readings\n",
    "sg_temp_2023 = sg_temp[sg_temp['year'] == 2023]\n",
    "sg_temp_2013 = sg_temp[sg_temp['year'] == 2013]"
   ]
  },
  {
   "cell_type": "code",
   "execution_count": 15,
   "metadata": {},
   "outputs": [
    {
     "data": {
      "text/plain": [
       "((365, 5), (365, 5))"
      ]
     },
     "execution_count": 15,
     "metadata": {},
     "output_type": "execute_result"
    }
   ],
   "source": [
    "# retrieve the shape of both dataframes\n",
    "sg_temp_2023.shape, sg_temp_2013.shape"
   ]
  },
  {
   "cell_type": "code",
   "execution_count": 79,
   "metadata": {},
   "outputs": [
    {
     "data": {
      "text/html": [
       "<div>\n",
       "<style scoped>\n",
       "    .dataframe tbody tr th:only-of-type {\n",
       "        vertical-align: middle;\n",
       "    }\n",
       "\n",
       "    .dataframe tbody tr th {\n",
       "        vertical-align: top;\n",
       "    }\n",
       "\n",
       "    .dataframe thead th {\n",
       "        text-align: right;\n",
       "    }\n",
       "</style>\n",
       "<table border=\"1\" class=\"dataframe\">\n",
       "  <thead>\n",
       "    <tr style=\"text-align: right;\">\n",
       "      <th></th>\n",
       "      <th>mean_temperature</th>\n",
       "    </tr>\n",
       "    <tr>\n",
       "      <th>year</th>\n",
       "      <th></th>\n",
       "    </tr>\n",
       "  </thead>\n",
       "  <tbody>\n",
       "    <tr>\n",
       "      <th>2013</th>\n",
       "      <td>27.654795</td>\n",
       "    </tr>\n",
       "    <tr>\n",
       "      <th>2023</th>\n",
       "      <td>28.164658</td>\n",
       "    </tr>\n",
       "  </tbody>\n",
       "</table>\n",
       "</div>"
      ],
      "text/plain": [
       "      mean_temperature\n",
       "year                  \n",
       "2013         27.654795\n",
       "2023         28.164658"
      ]
     },
     "execution_count": 79,
     "metadata": {},
     "output_type": "execute_result"
    }
   ],
   "source": [
    "# retrieve the mean annual temperatures for year 2023 vs 2013\n",
    "sg_temp.groupby('year')[['mean_temperature']].agg('mean')"
   ]
  },
  {
   "cell_type": "markdown",
   "metadata": {},
   "source": [
    "<br><br>\n",
    "\n",
    "## Plot visual graphs"
   ]
  },
  {
   "cell_type": "code",
   "execution_count": 67,
   "metadata": {},
   "outputs": [
    {
     "data": {
      "text/plain": [
       "''"
      ]
     },
     "execution_count": 67,
     "metadata": {},
     "output_type": "execute_result"
    },
    {
     "data": {
      "image/png": "[encoded data removed]",
      "text/plain": [
       "<Figure size 800x1000 with 2 Axes>"
      ]
     },
     "metadata": {},
     "output_type": "display_data"
    }
   ],
   "source": [
    "# plot the histograms for 2023 and 2013 daily mean temperature readings\n",
    "sns.set_style('whitegrid')\n",
    "\n",
    "fig, (ax2023, ax2013) = plt.subplots(2, 1, figsize=(8, 10))\n",
    "\n",
    "ax2023 = sns.histplot(\n",
    "    sg_temp_2023['mean_temperature'],\n",
    "    bins=30,\n",
    "    alpha=0.9,\n",
    "    ax=ax2023\n",
    ")\n",
    "\n",
    "ax2013 = sns.histplot(\n",
    "    sg_temp_2013['mean_temperature'],\n",
    "    bins=30,\n",
    "    alpha=0.9,\n",
    "    color='tab:orange',\n",
    "    ax=ax2013\n",
    ")\n",
    "\n",
    "ax2023.set_title('Histogram of Temperature Readings in 2023')\n",
    "ax2023.set_xlabel('Mean Temperature, Celcius')\n",
    "ax2023.set_ylabel('Frequency')\n",
    "\n",
    "ax2013.set_title('Histogram of Temperature Readings in 2013')\n",
    "ax2013.set_xlabel('Mean Temperature, Celcius')\n",
    "ax2013.set_ylabel('Frequency')\n",
    "\n",
    "plt.subplots_adjust(hspace=0.4) \n",
    ";"
   ]
  },
  {
   "cell_type": "markdown",
   "metadata": {},
   "source": [
    "<br><br>\n",
    "\n",
    "## Shapiro-wilk test\n",
    "* determine whether both datasets are normally distributed\n",
    "* 5% significance level, alpha = 0.05"
   ]
  },
  {
   "cell_type": "code",
   "execution_count": 69,
   "metadata": {},
   "outputs": [
    {
     "data": {
      "text/plain": [
       "(6.136404806511564e-08, 0.1844138503074646)"
      ]
     },
     "execution_count": 69,
     "metadata": {},
     "output_type": "execute_result"
    }
   ],
   "source": [
    "# conduct the shapiro-wilk test on both 2023 and 2013\n",
    "stat_2023, pvalue_2023 = stats.shapiro(sg_temp_2023['mean_temperature'])\n",
    "stat_2013, pvalue_2013 = stats.shapiro(sg_temp_2013['mean_temperature'])\n",
    "\n",
    "pvalue_2023, pvalue_2013"
   ]
  },
  {
   "cell_type": "markdown",
   "metadata": {},
   "source": [
    "* since the p-value for 2023 is below the 5% significance level, the 2023 dataset is not normally distributed\n",
    "* however, since the sample size is large, we can still proceed with using the t-test\n",
    "* in addition, we will also conduct the mann-whitney u test for a more robust analysis"
   ]
  },
  {
   "cell_type": "markdown",
   "metadata": {},
   "source": [
    "<br><br>\n",
    "\n",
    "## Levene test\n",
    "* determine whether both datasets have different variances\n",
    "* 5% significance level, alpha = 0.05"
   ]
  },
  {
   "cell_type": "code",
   "execution_count": 71,
   "metadata": {},
   "outputs": [
    {
     "data": {
      "text/plain": [
       "0.002984395972661087"
      ]
     },
     "execution_count": 71,
     "metadata": {},
     "output_type": "execute_result"
    }
   ],
   "source": [
    "# conduct the levene test\n",
    "l_stat, l_pvalue = stats.levene(sg_temp_2023['mean_temperature'], sg_temp_2013['mean_temperature'])\n",
    "l_pvalue"
   ]
  },
  {
   "cell_type": "markdown",
   "metadata": {},
   "source": [
    "* since the p-value < 5% significance level, both datasets have different variances"
   ]
  },
  {
   "cell_type": "markdown",
   "metadata": {},
   "source": [
    "<br><br>\n",
    "\n",
    "## Two-sample right-tailed t-test\n",
    "\n",
    "- null hypothesis = annual mean temperatures in 2023 is not greater than in 2013\n",
    "- alternative hypothesis = annual mean temperatures in 2023 is greater than in 2013\n",
    "- significance level = 5%, alpha = 0.05"
   ]
  },
  {
   "cell_type": "code",
   "execution_count": 72,
   "metadata": {},
   "outputs": [
    {
     "data": {
      "text/plain": [
       "1.1899787846906019e-08"
      ]
     },
     "execution_count": 72,
     "metadata": {},
     "output_type": "execute_result"
    }
   ],
   "source": [
    "# conduct the t-test\n",
    "t_stat, t_pvalue = stats.ttest_ind(sg_temp_2023['mean_temperature'], sg_temp_2013['mean_temperature'], alternative='greater', equal_var=False)\n",
    "t_pvalue"
   ]
  },
  {
   "cell_type": "markdown",
   "metadata": {},
   "source": [
    "- p-value < 5% significance level, we reject the null hypothesis\n",
    "- SG's annual mean temperature in 2023 is greater than in 2013, at a 5% significance level"
   ]
  },
  {
   "cell_type": "markdown",
   "metadata": {},
   "source": [
    "<br><br>\n",
    "\n",
    "## Right-tailed mann-whitney u test\n",
    "\n",
    "- null hypothesis = distribution of daily mean temperatures in 2023 is not greater than in 2013\n",
    "- alternative hypothesis = distribution of daily mean temperatures in 2023 is greater than in 2013\n",
    "- significance level = 5%, alpha = 0.05"
   ]
  },
  {
   "cell_type": "code",
   "execution_count": 73,
   "metadata": {},
   "outputs": [
    {
     "data": {
      "text/plain": [
       "6.785364141331414e-10"
      ]
     },
     "execution_count": 73,
     "metadata": {},
     "output_type": "execute_result"
    }
   ],
   "source": [
    "# conduct the mann-whitney u test\n",
    "u_stat, u_pvalue = stats.mannwhitneyu(sg_temp_2023['mean_temperature'], sg_temp_2013['mean_temperature'], alternative='greater')\n",
    "u_pvalue"
   ]
  },
  {
   "cell_type": "markdown",
   "metadata": {},
   "source": [
    "- p=value < 5% significance level, we reject the null hypothesis\n",
    "- SG's daily mean temperature distribution in 2023 is greater than in 2013, at a 5% significance level"
   ]
  },
  {
   "cell_type": "markdown",
   "metadata": {},
   "source": [
    "<br><br>\n",
    "\n",
    "<font color = 'orange'>\n",
    "\n",
    "## Summary\n",
    "\n",
    "</font>\n",
    "\n",
    "- we can conclude that there is an increase in SG's mean temperatures at a 5% significance level, in the past 10 years\n",
    "- both the annual mean temperature and mean temperature distribution are greater in 2023 than in 2013"
   ]
  },
  {
   "cell_type": "markdown",
   "metadata": {},
   "source": [
    "<br><br><br><br>\n",
    "\n",
    "# Acknowledgements\n",
    "* data courtesy of National Environment Agency (NEA), Singapore"
   ]
  }
 ],
 "metadata": {
  "kernelspec": {
   "display_name": "Python 3",
   "language": "python",
   "name": "python3"
  },
  "language_info": {
   "codemirror_mode": {
    "name": "ipython",
    "version": 3
   },
   "file_extension": ".py",
   "mimetype": "text/x-python",
   "name": "python",
   "nbconvert_exporter": "python",
   "pygments_lexer": "ipython3",
   "version": "3.11.1"
  },
  "orig_nbformat": 4
 },
 "nbformat": 4,
 "nbformat_minor": 2
}
